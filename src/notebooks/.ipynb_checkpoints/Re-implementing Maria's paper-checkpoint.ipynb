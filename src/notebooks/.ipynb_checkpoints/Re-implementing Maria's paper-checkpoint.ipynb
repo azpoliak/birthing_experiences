{
 "cells": [
  {
   "cell_type": "code",
   "execution_count": 2,
   "metadata": {},
   "outputs": [],
   "source": [
    "import pandas as pd\n",
    "import os\n",
    "import nltk\n",
    "from nltk import ngrams\n",
    "from nltk import tokenize\n",
    "import numpy as np\n",
    "from datetime import datetime"
   ]
  },
  {
   "cell_type": "code",
   "execution_count": 3,
   "metadata": {},
   "outputs": [
    {
     "data": {
      "text/plain": [
       "'/home/nm3224/birthing_experiences/src/notebooks'"
      ]
     },
     "execution_count": 3,
     "metadata": {},
     "output_type": "execute_result"
    }
   ],
   "source": [
    "cwd = os.getcwd() \n",
    "cwd"
   ]
  },
  {
   "cell_type": "code",
   "execution_count": 10,
   "metadata": {},
   "outputs": [
    {
     "ename": "FileNotFoundError",
     "evalue": "[Errno 2] No such file or directory: '../../../retriever/data/subreddits/BabyBumps/submissions/'",
     "output_type": "error",
     "traceback": [
      "\u001b[0;31m---------------------------------------------------------------------------\u001b[0m",
      "\u001b[0;31mFileNotFoundError\u001b[0m                         Traceback (most recent call last)",
      "\u001b[0;32m<ipython-input-10-0036e31aa57d>\u001b[0m in \u001b[0;36m<module>\u001b[0;34m()\u001b[0m\n\u001b[1;32m      1\u001b[0m \u001b[0mbirth_stories_df\u001b[0m \u001b[0;34m=\u001b[0m \u001b[0mpd\u001b[0m\u001b[0;34m.\u001b[0m\u001b[0mDataFrame\u001b[0m\u001b[0;34m(\u001b[0m\u001b[0;34m)\u001b[0m\u001b[0;34m\u001b[0m\u001b[0m\n\u001b[0;32m----> 2\u001b[0;31m \u001b[0;32mfor\u001b[0m \u001b[0mfile\u001b[0m \u001b[0;32min\u001b[0m \u001b[0mos\u001b[0m\u001b[0;34m.\u001b[0m\u001b[0mlistdir\u001b[0m\u001b[0;34m(\u001b[0m\u001b[0;34m\"../../../retriever/data/subreddits/BabyBumps/submissions/\"\u001b[0m\u001b[0;34m)\u001b[0m\u001b[0;34m:\u001b[0m\u001b[0;34m\u001b[0m\u001b[0m\n\u001b[0m\u001b[1;32m      3\u001b[0m     \u001b[0mpost\u001b[0m \u001b[0;34m=\u001b[0m \u001b[0;34m\"../../../retriever/data/subreddits/BabyBumps/submissions/\"\u001b[0m\u001b[0;34m+\u001b[0m\u001b[0mfile\u001b[0m\u001b[0;34m\u001b[0m\u001b[0m\n\u001b[1;32m      4\u001b[0m     \u001b[0;32mif\u001b[0m \u001b[0mos\u001b[0m\u001b[0;34m.\u001b[0m\u001b[0mpath\u001b[0m\u001b[0;34m.\u001b[0m\u001b[0mgetsize\u001b[0m\u001b[0;34m(\u001b[0m\u001b[0mpost\u001b[0m\u001b[0;34m)\u001b[0m \u001b[0;34m>\u001b[0m \u001b[0;36m55\u001b[0m\u001b[0;34m:\u001b[0m\u001b[0;34m\u001b[0m\u001b[0m\n\u001b[1;32m      5\u001b[0m         \u001b[0mcontent\u001b[0m \u001b[0;34m=\u001b[0m \u001b[0mpd\u001b[0m\u001b[0;34m.\u001b[0m\u001b[0mread_json\u001b[0m\u001b[0;34m(\u001b[0m\u001b[0mpost\u001b[0m\u001b[0;34m)\u001b[0m\u001b[0;34m\u001b[0m\u001b[0m\n",
      "\u001b[0;31mFileNotFoundError\u001b[0m: [Errno 2] No such file or directory: '../../../retriever/data/subreddits/BabyBumps/submissions/'"
     ]
    }
   ],
   "source": [
    "birth_stories_df = pd.DataFrame()\n",
    "for file in os.listdir(\"../../../retriever/data/subreddits/BabyBumps/submissions/\"):\n",
    "    post = \"../../../retriever/data/subreddits/BabyBumps/submissions/\"+file\n",
    "    if os.path.getsize(post) > 55:\n",
    "        content = pd.read_json(post)\n",
    "        birth_stories_df = birth_stories_df.append(content)"
   ]
  },
  {
   "cell_type": "code",
   "execution_count": 5,
   "metadata": {},
   "outputs": [
    {
     "ename": "KeyError",
     "evalue": "'title'",
     "output_type": "error",
     "traceback": [
      "\u001b[0;31m---------------------------------------------------------------------------\u001b[0m",
      "\u001b[0;31mKeyError\u001b[0m                                  Traceback (most recent call last)",
      "\u001b[0;32m~/anaconda3/lib/python3.7/site-packages/pandas/core/indexes/base.py\u001b[0m in \u001b[0;36mget_loc\u001b[0;34m(self, key, method, tolerance)\u001b[0m\n\u001b[1;32m   3077\u001b[0m             \u001b[0;32mtry\u001b[0m\u001b[0;34m:\u001b[0m\u001b[0;34m\u001b[0m\u001b[0m\n\u001b[0;32m-> 3078\u001b[0;31m                 \u001b[0;32mreturn\u001b[0m \u001b[0mself\u001b[0m\u001b[0;34m.\u001b[0m\u001b[0m_engine\u001b[0m\u001b[0;34m.\u001b[0m\u001b[0mget_loc\u001b[0m\u001b[0;34m(\u001b[0m\u001b[0mkey\u001b[0m\u001b[0;34m)\u001b[0m\u001b[0;34m\u001b[0m\u001b[0m\n\u001b[0m\u001b[1;32m   3079\u001b[0m             \u001b[0;32mexcept\u001b[0m \u001b[0mKeyError\u001b[0m\u001b[0;34m:\u001b[0m\u001b[0;34m\u001b[0m\u001b[0m\n",
      "\u001b[0;32mpandas/_libs/index.pyx\u001b[0m in \u001b[0;36mpandas._libs.index.IndexEngine.get_loc\u001b[0;34m()\u001b[0m\n",
      "\u001b[0;32mpandas/_libs/index.pyx\u001b[0m in \u001b[0;36mpandas._libs.index.IndexEngine.get_loc\u001b[0;34m()\u001b[0m\n",
      "\u001b[0;32mpandas/_libs/hashtable_class_helper.pxi\u001b[0m in \u001b[0;36mpandas._libs.hashtable.PyObjectHashTable.get_item\u001b[0;34m()\u001b[0m\n",
      "\u001b[0;32mpandas/_libs/hashtable_class_helper.pxi\u001b[0m in \u001b[0;36mpandas._libs.hashtable.PyObjectHashTable.get_item\u001b[0;34m()\u001b[0m\n",
      "\u001b[0;31mKeyError\u001b[0m: 'title'",
      "\nDuring handling of the above exception, another exception occurred:\n",
      "\u001b[0;31mKeyError\u001b[0m                                  Traceback (most recent call last)",
      "\u001b[0;32m<ipython-input-5-ff8ac49fac71>\u001b[0m in \u001b[0;36m<module>\u001b[0;34m()\u001b[0m\n\u001b[1;32m      8\u001b[0m         \u001b[0;32mreturn\u001b[0m \u001b[0;32mFalse\u001b[0m\u001b[0;34m\u001b[0m\u001b[0m\n\u001b[1;32m      9\u001b[0m \u001b[0;34m\u001b[0m\u001b[0m\n\u001b[0;32m---> 10\u001b[0;31m \u001b[0mbirth_stories_df\u001b[0m\u001b[0;34m[\u001b[0m\u001b[0;34m'birth story'\u001b[0m\u001b[0;34m]\u001b[0m \u001b[0;34m=\u001b[0m \u001b[0mbirth_stories_df\u001b[0m\u001b[0;34m[\u001b[0m\u001b[0;34m'title'\u001b[0m\u001b[0;34m]\u001b[0m\u001b[0;34m.\u001b[0m\u001b[0mapply\u001b[0m\u001b[0;34m(\u001b[0m\u001b[0mbirthstories\u001b[0m\u001b[0;34m)\u001b[0m\u001b[0;34m\u001b[0m\u001b[0m\n\u001b[0m\u001b[1;32m     11\u001b[0m \u001b[0mbirth_stories_df\u001b[0m \u001b[0;34m=\u001b[0m \u001b[0mbirth_stories_df\u001b[0m\u001b[0;34m[\u001b[0m\u001b[0mbirth_stories_df\u001b[0m\u001b[0;34m[\u001b[0m\u001b[0;34m'birth story'\u001b[0m\u001b[0;34m]\u001b[0m \u001b[0;34m==\u001b[0m \u001b[0;32mTrue\u001b[0m\u001b[0;34m]\u001b[0m\u001b[0;34m\u001b[0m\u001b[0m\n\u001b[1;32m     12\u001b[0m \u001b[0mbirth_stories_df\u001b[0m\u001b[0;34m\u001b[0m\u001b[0m\n",
      "\u001b[0;32m~/anaconda3/lib/python3.7/site-packages/pandas/core/frame.py\u001b[0m in \u001b[0;36m__getitem__\u001b[0;34m(self, key)\u001b[0m\n\u001b[1;32m   2686\u001b[0m             \u001b[0;32mreturn\u001b[0m \u001b[0mself\u001b[0m\u001b[0;34m.\u001b[0m\u001b[0m_getitem_multilevel\u001b[0m\u001b[0;34m(\u001b[0m\u001b[0mkey\u001b[0m\u001b[0;34m)\u001b[0m\u001b[0;34m\u001b[0m\u001b[0m\n\u001b[1;32m   2687\u001b[0m         \u001b[0;32melse\u001b[0m\u001b[0;34m:\u001b[0m\u001b[0;34m\u001b[0m\u001b[0m\n\u001b[0;32m-> 2688\u001b[0;31m             \u001b[0;32mreturn\u001b[0m \u001b[0mself\u001b[0m\u001b[0;34m.\u001b[0m\u001b[0m_getitem_column\u001b[0m\u001b[0;34m(\u001b[0m\u001b[0mkey\u001b[0m\u001b[0;34m)\u001b[0m\u001b[0;34m\u001b[0m\u001b[0m\n\u001b[0m\u001b[1;32m   2689\u001b[0m \u001b[0;34m\u001b[0m\u001b[0m\n\u001b[1;32m   2690\u001b[0m     \u001b[0;32mdef\u001b[0m \u001b[0m_getitem_column\u001b[0m\u001b[0;34m(\u001b[0m\u001b[0mself\u001b[0m\u001b[0;34m,\u001b[0m \u001b[0mkey\u001b[0m\u001b[0;34m)\u001b[0m\u001b[0;34m:\u001b[0m\u001b[0;34m\u001b[0m\u001b[0m\n",
      "\u001b[0;32m~/anaconda3/lib/python3.7/site-packages/pandas/core/frame.py\u001b[0m in \u001b[0;36m_getitem_column\u001b[0;34m(self, key)\u001b[0m\n\u001b[1;32m   2693\u001b[0m         \u001b[0;31m# get column\u001b[0m\u001b[0;34m\u001b[0m\u001b[0;34m\u001b[0m\u001b[0m\n\u001b[1;32m   2694\u001b[0m         \u001b[0;32mif\u001b[0m \u001b[0mself\u001b[0m\u001b[0;34m.\u001b[0m\u001b[0mcolumns\u001b[0m\u001b[0;34m.\u001b[0m\u001b[0mis_unique\u001b[0m\u001b[0;34m:\u001b[0m\u001b[0;34m\u001b[0m\u001b[0m\n\u001b[0;32m-> 2695\u001b[0;31m             \u001b[0;32mreturn\u001b[0m \u001b[0mself\u001b[0m\u001b[0;34m.\u001b[0m\u001b[0m_get_item_cache\u001b[0m\u001b[0;34m(\u001b[0m\u001b[0mkey\u001b[0m\u001b[0;34m)\u001b[0m\u001b[0;34m\u001b[0m\u001b[0m\n\u001b[0m\u001b[1;32m   2696\u001b[0m \u001b[0;34m\u001b[0m\u001b[0m\n\u001b[1;32m   2697\u001b[0m         \u001b[0;31m# duplicate columns & possible reduce dimensionality\u001b[0m\u001b[0;34m\u001b[0m\u001b[0;34m\u001b[0m\u001b[0m\n",
      "\u001b[0;32m~/anaconda3/lib/python3.7/site-packages/pandas/core/generic.py\u001b[0m in \u001b[0;36m_get_item_cache\u001b[0;34m(self, item)\u001b[0m\n\u001b[1;32m   2487\u001b[0m         \u001b[0mres\u001b[0m \u001b[0;34m=\u001b[0m \u001b[0mcache\u001b[0m\u001b[0;34m.\u001b[0m\u001b[0mget\u001b[0m\u001b[0;34m(\u001b[0m\u001b[0mitem\u001b[0m\u001b[0;34m)\u001b[0m\u001b[0;34m\u001b[0m\u001b[0m\n\u001b[1;32m   2488\u001b[0m         \u001b[0;32mif\u001b[0m \u001b[0mres\u001b[0m \u001b[0;32mis\u001b[0m \u001b[0;32mNone\u001b[0m\u001b[0;34m:\u001b[0m\u001b[0;34m\u001b[0m\u001b[0m\n\u001b[0;32m-> 2489\u001b[0;31m             \u001b[0mvalues\u001b[0m \u001b[0;34m=\u001b[0m \u001b[0mself\u001b[0m\u001b[0;34m.\u001b[0m\u001b[0m_data\u001b[0m\u001b[0;34m.\u001b[0m\u001b[0mget\u001b[0m\u001b[0;34m(\u001b[0m\u001b[0mitem\u001b[0m\u001b[0;34m)\u001b[0m\u001b[0;34m\u001b[0m\u001b[0m\n\u001b[0m\u001b[1;32m   2490\u001b[0m             \u001b[0mres\u001b[0m \u001b[0;34m=\u001b[0m \u001b[0mself\u001b[0m\u001b[0;34m.\u001b[0m\u001b[0m_box_item_values\u001b[0m\u001b[0;34m(\u001b[0m\u001b[0mitem\u001b[0m\u001b[0;34m,\u001b[0m \u001b[0mvalues\u001b[0m\u001b[0;34m)\u001b[0m\u001b[0;34m\u001b[0m\u001b[0m\n\u001b[1;32m   2491\u001b[0m             \u001b[0mcache\u001b[0m\u001b[0;34m[\u001b[0m\u001b[0mitem\u001b[0m\u001b[0;34m]\u001b[0m \u001b[0;34m=\u001b[0m \u001b[0mres\u001b[0m\u001b[0;34m\u001b[0m\u001b[0m\n",
      "\u001b[0;32m~/anaconda3/lib/python3.7/site-packages/pandas/core/internals.py\u001b[0m in \u001b[0;36mget\u001b[0;34m(self, item, fastpath)\u001b[0m\n\u001b[1;32m   4113\u001b[0m \u001b[0;34m\u001b[0m\u001b[0m\n\u001b[1;32m   4114\u001b[0m             \u001b[0;32mif\u001b[0m \u001b[0;32mnot\u001b[0m \u001b[0misna\u001b[0m\u001b[0;34m(\u001b[0m\u001b[0mitem\u001b[0m\u001b[0;34m)\u001b[0m\u001b[0;34m:\u001b[0m\u001b[0;34m\u001b[0m\u001b[0m\n\u001b[0;32m-> 4115\u001b[0;31m                 \u001b[0mloc\u001b[0m \u001b[0;34m=\u001b[0m \u001b[0mself\u001b[0m\u001b[0;34m.\u001b[0m\u001b[0mitems\u001b[0m\u001b[0;34m.\u001b[0m\u001b[0mget_loc\u001b[0m\u001b[0;34m(\u001b[0m\u001b[0mitem\u001b[0m\u001b[0;34m)\u001b[0m\u001b[0;34m\u001b[0m\u001b[0m\n\u001b[0m\u001b[1;32m   4116\u001b[0m             \u001b[0;32melse\u001b[0m\u001b[0;34m:\u001b[0m\u001b[0;34m\u001b[0m\u001b[0m\n\u001b[1;32m   4117\u001b[0m                 \u001b[0mindexer\u001b[0m \u001b[0;34m=\u001b[0m \u001b[0mnp\u001b[0m\u001b[0;34m.\u001b[0m\u001b[0marange\u001b[0m\u001b[0;34m(\u001b[0m\u001b[0mlen\u001b[0m\u001b[0;34m(\u001b[0m\u001b[0mself\u001b[0m\u001b[0;34m.\u001b[0m\u001b[0mitems\u001b[0m\u001b[0;34m)\u001b[0m\u001b[0;34m)\u001b[0m\u001b[0;34m[\u001b[0m\u001b[0misna\u001b[0m\u001b[0;34m(\u001b[0m\u001b[0mself\u001b[0m\u001b[0;34m.\u001b[0m\u001b[0mitems\u001b[0m\u001b[0;34m)\u001b[0m\u001b[0;34m]\u001b[0m\u001b[0;34m\u001b[0m\u001b[0m\n",
      "\u001b[0;32m~/anaconda3/lib/python3.7/site-packages/pandas/core/indexes/base.py\u001b[0m in \u001b[0;36mget_loc\u001b[0;34m(self, key, method, tolerance)\u001b[0m\n\u001b[1;32m   3078\u001b[0m                 \u001b[0;32mreturn\u001b[0m \u001b[0mself\u001b[0m\u001b[0;34m.\u001b[0m\u001b[0m_engine\u001b[0m\u001b[0;34m.\u001b[0m\u001b[0mget_loc\u001b[0m\u001b[0;34m(\u001b[0m\u001b[0mkey\u001b[0m\u001b[0;34m)\u001b[0m\u001b[0;34m\u001b[0m\u001b[0m\n\u001b[1;32m   3079\u001b[0m             \u001b[0;32mexcept\u001b[0m \u001b[0mKeyError\u001b[0m\u001b[0;34m:\u001b[0m\u001b[0;34m\u001b[0m\u001b[0m\n\u001b[0;32m-> 3080\u001b[0;31m                 \u001b[0;32mreturn\u001b[0m \u001b[0mself\u001b[0m\u001b[0;34m.\u001b[0m\u001b[0m_engine\u001b[0m\u001b[0;34m.\u001b[0m\u001b[0mget_loc\u001b[0m\u001b[0;34m(\u001b[0m\u001b[0mself\u001b[0m\u001b[0;34m.\u001b[0m\u001b[0m_maybe_cast_indexer\u001b[0m\u001b[0;34m(\u001b[0m\u001b[0mkey\u001b[0m\u001b[0;34m)\u001b[0m\u001b[0;34m)\u001b[0m\u001b[0;34m\u001b[0m\u001b[0m\n\u001b[0m\u001b[1;32m   3081\u001b[0m \u001b[0;34m\u001b[0m\u001b[0m\n\u001b[1;32m   3082\u001b[0m         \u001b[0mindexer\u001b[0m \u001b[0;34m=\u001b[0m \u001b[0mself\u001b[0m\u001b[0;34m.\u001b[0m\u001b[0mget_indexer\u001b[0m\u001b[0;34m(\u001b[0m\u001b[0;34m[\u001b[0m\u001b[0mkey\u001b[0m\u001b[0;34m]\u001b[0m\u001b[0;34m,\u001b[0m \u001b[0mmethod\u001b[0m\u001b[0;34m=\u001b[0m\u001b[0mmethod\u001b[0m\u001b[0;34m,\u001b[0m \u001b[0mtolerance\u001b[0m\u001b[0;34m=\u001b[0m\u001b[0mtolerance\u001b[0m\u001b[0;34m)\u001b[0m\u001b[0;34m\u001b[0m\u001b[0m\n",
      "\u001b[0;32mpandas/_libs/index.pyx\u001b[0m in \u001b[0;36mpandas._libs.index.IndexEngine.get_loc\u001b[0;34m()\u001b[0m\n",
      "\u001b[0;32mpandas/_libs/index.pyx\u001b[0m in \u001b[0;36mpandas._libs.index.IndexEngine.get_loc\u001b[0;34m()\u001b[0m\n",
      "\u001b[0;32mpandas/_libs/hashtable_class_helper.pxi\u001b[0m in \u001b[0;36mpandas._libs.hashtable.PyObjectHashTable.get_item\u001b[0;34m()\u001b[0m\n",
      "\u001b[0;32mpandas/_libs/hashtable_class_helper.pxi\u001b[0m in \u001b[0;36mpandas._libs.hashtable.PyObjectHashTable.get_item\u001b[0;34m()\u001b[0m\n",
      "\u001b[0;31mKeyError\u001b[0m: 'title'"
     ]
    }
   ],
   "source": [
    "def birthstories(series):\n",
    "    lowered = series.lower()\n",
    "    if 'birth story' in lowered:\n",
    "        return True\n",
    "    if 'birth stories' in lowered:\n",
    "        return True\n",
    "    else:\n",
    "        return False\n",
    "\n",
    "birth_stories_df['birth story'] = birth_stories_df['title'].apply(birthstories)\n",
    "birth_stories_df = birth_stories_df[birth_stories_df['birth story'] == True]\n",
    "birth_stories_df"
   ]
  },
  {
   "cell_type": "code",
   "execution_count": 6,
   "metadata": {},
   "outputs": [
    {
     "ename": "KeyError",
     "evalue": "['selftext']",
     "output_type": "error",
     "traceback": [
      "\u001b[0;31m---------------------------------------------------------------------------\u001b[0m",
      "\u001b[0;31mKeyError\u001b[0m                                  Traceback (most recent call last)",
      "\u001b[0;32m<ipython-input-6-675ed333e512>\u001b[0m in \u001b[0;36m<module>\u001b[0;34m()\u001b[0m\n\u001b[1;32m      1\u001b[0m \u001b[0mnan_value\u001b[0m \u001b[0;34m=\u001b[0m \u001b[0mfloat\u001b[0m\u001b[0;34m(\u001b[0m\u001b[0;34m\"NaN\"\u001b[0m\u001b[0;34m)\u001b[0m\u001b[0;34m\u001b[0m\u001b[0m\n\u001b[1;32m      2\u001b[0m \u001b[0mbirth_stories_df\u001b[0m\u001b[0;34m.\u001b[0m\u001b[0mreplace\u001b[0m\u001b[0;34m(\u001b[0m\u001b[0;34m\"\"\u001b[0m\u001b[0;34m,\u001b[0m \u001b[0mnan_value\u001b[0m\u001b[0;34m,\u001b[0m \u001b[0minplace\u001b[0m\u001b[0;34m=\u001b[0m\u001b[0;32mTrue\u001b[0m\u001b[0;34m)\u001b[0m\u001b[0;34m\u001b[0m\u001b[0m\n\u001b[0;32m----> 3\u001b[0;31m \u001b[0mbirth_stories_df\u001b[0m\u001b[0;34m.\u001b[0m\u001b[0mdropna\u001b[0m\u001b[0;34m(\u001b[0m\u001b[0msubset\u001b[0m\u001b[0;34m=\u001b[0m\u001b[0;34m[\u001b[0m\u001b[0;34m'selftext'\u001b[0m\u001b[0;34m]\u001b[0m\u001b[0;34m,\u001b[0m \u001b[0minplace\u001b[0m\u001b[0;34m=\u001b[0m\u001b[0;32mTrue\u001b[0m\u001b[0;34m)\u001b[0m\u001b[0;34m\u001b[0m\u001b[0m\n\u001b[0m",
      "\u001b[0;32m~/anaconda3/lib/python3.7/site-packages/pandas/core/frame.py\u001b[0m in \u001b[0;36mdropna\u001b[0;34m(self, axis, how, thresh, subset, inplace)\u001b[0m\n\u001b[1;32m   4283\u001b[0m                 \u001b[0mcheck\u001b[0m \u001b[0;34m=\u001b[0m \u001b[0mindices\u001b[0m \u001b[0;34m==\u001b[0m \u001b[0;34m-\u001b[0m\u001b[0;36m1\u001b[0m\u001b[0;34m\u001b[0m\u001b[0m\n\u001b[1;32m   4284\u001b[0m                 \u001b[0;32mif\u001b[0m \u001b[0mcheck\u001b[0m\u001b[0;34m.\u001b[0m\u001b[0many\u001b[0m\u001b[0;34m(\u001b[0m\u001b[0;34m)\u001b[0m\u001b[0;34m:\u001b[0m\u001b[0;34m\u001b[0m\u001b[0m\n\u001b[0;32m-> 4285\u001b[0;31m                     \u001b[0;32mraise\u001b[0m \u001b[0mKeyError\u001b[0m\u001b[0;34m(\u001b[0m\u001b[0mlist\u001b[0m\u001b[0;34m(\u001b[0m\u001b[0mnp\u001b[0m\u001b[0;34m.\u001b[0m\u001b[0mcompress\u001b[0m\u001b[0;34m(\u001b[0m\u001b[0mcheck\u001b[0m\u001b[0;34m,\u001b[0m \u001b[0msubset\u001b[0m\u001b[0;34m)\u001b[0m\u001b[0;34m)\u001b[0m\u001b[0;34m)\u001b[0m\u001b[0;34m\u001b[0m\u001b[0m\n\u001b[0m\u001b[1;32m   4286\u001b[0m                 \u001b[0magg_obj\u001b[0m \u001b[0;34m=\u001b[0m \u001b[0mself\u001b[0m\u001b[0;34m.\u001b[0m\u001b[0mtake\u001b[0m\u001b[0;34m(\u001b[0m\u001b[0mindices\u001b[0m\u001b[0;34m,\u001b[0m \u001b[0maxis\u001b[0m\u001b[0;34m=\u001b[0m\u001b[0magg_axis\u001b[0m\u001b[0;34m)\u001b[0m\u001b[0;34m\u001b[0m\u001b[0m\n\u001b[1;32m   4287\u001b[0m \u001b[0;34m\u001b[0m\u001b[0m\n",
      "\u001b[0;31mKeyError\u001b[0m: ['selftext']"
     ]
    }
   ],
   "source": [
    "nan_value = float(\"NaN\")\n",
    "birth_stories_df.replace(\"\", nan_value, inplace=True)\n",
    "birth_stories_df.dropna(subset=['selftext'], inplace=True)"
   ]
  },
  {
   "cell_type": "code",
   "execution_count": 7,
   "metadata": {},
   "outputs": [
    {
     "ename": "KeyError",
     "evalue": "'selftext'",
     "output_type": "error",
     "traceback": [
      "\u001b[0;31m---------------------------------------------------------------------------\u001b[0m",
      "\u001b[0;31mKeyError\u001b[0m                                  Traceback (most recent call last)",
      "\u001b[0;32m~/anaconda3/lib/python3.7/site-packages/pandas/core/indexes/base.py\u001b[0m in \u001b[0;36mget_loc\u001b[0;34m(self, key, method, tolerance)\u001b[0m\n\u001b[1;32m   3077\u001b[0m             \u001b[0;32mtry\u001b[0m\u001b[0;34m:\u001b[0m\u001b[0;34m\u001b[0m\u001b[0m\n\u001b[0;32m-> 3078\u001b[0;31m                 \u001b[0;32mreturn\u001b[0m \u001b[0mself\u001b[0m\u001b[0;34m.\u001b[0m\u001b[0m_engine\u001b[0m\u001b[0;34m.\u001b[0m\u001b[0mget_loc\u001b[0m\u001b[0;34m(\u001b[0m\u001b[0mkey\u001b[0m\u001b[0;34m)\u001b[0m\u001b[0;34m\u001b[0m\u001b[0m\n\u001b[0m\u001b[1;32m   3079\u001b[0m             \u001b[0;32mexcept\u001b[0m \u001b[0mKeyError\u001b[0m\u001b[0;34m:\u001b[0m\u001b[0;34m\u001b[0m\u001b[0m\n",
      "\u001b[0;32mpandas/_libs/index.pyx\u001b[0m in \u001b[0;36mpandas._libs.index.IndexEngine.get_loc\u001b[0;34m()\u001b[0m\n",
      "\u001b[0;32mpandas/_libs/index.pyx\u001b[0m in \u001b[0;36mpandas._libs.index.IndexEngine.get_loc\u001b[0;34m()\u001b[0m\n",
      "\u001b[0;32mpandas/_libs/hashtable_class_helper.pxi\u001b[0m in \u001b[0;36mpandas._libs.hashtable.PyObjectHashTable.get_item\u001b[0;34m()\u001b[0m\n",
      "\u001b[0;32mpandas/_libs/hashtable_class_helper.pxi\u001b[0m in \u001b[0;36mpandas._libs.hashtable.PyObjectHashTable.get_item\u001b[0;34m()\u001b[0m\n",
      "\u001b[0;31mKeyError\u001b[0m: 'selftext'",
      "\nDuring handling of the above exception, another exception occurred:\n",
      "\u001b[0;31mKeyError\u001b[0m                                  Traceback (most recent call last)",
      "\u001b[0;32m<ipython-input-7-e7827dd5a269>\u001b[0m in \u001b[0;36m<module>\u001b[0;34m()\u001b[0m\n\u001b[1;32m      5\u001b[0m     \u001b[0;32mreturn\u001b[0m \u001b[0mlength\u001b[0m\u001b[0;34m\u001b[0m\u001b[0m\n\u001b[1;32m      6\u001b[0m \u001b[0;34m\u001b[0m\u001b[0m\n\u001b[0;32m----> 7\u001b[0;31m \u001b[0mbirth_stories_df\u001b[0m\u001b[0;34m[\u001b[0m\u001b[0;34m'story length'\u001b[0m\u001b[0;34m]\u001b[0m \u001b[0;34m=\u001b[0m \u001b[0mbirth_stories_df\u001b[0m\u001b[0;34m[\u001b[0m\u001b[0;34m'selftext'\u001b[0m\u001b[0;34m]\u001b[0m\u001b[0;34m.\u001b[0m\u001b[0mapply\u001b[0m\u001b[0;34m(\u001b[0m\u001b[0mstory_lengths\u001b[0m\u001b[0;34m)\u001b[0m\u001b[0;34m\u001b[0m\u001b[0m\n\u001b[0m\u001b[1;32m      8\u001b[0m \u001b[0;34m\u001b[0m\u001b[0m\n\u001b[1;32m      9\u001b[0m \u001b[0;32mdef\u001b[0m \u001b[0mlong_stories\u001b[0m\u001b[0;34m(\u001b[0m\u001b[0mseries\u001b[0m\u001b[0;34m)\u001b[0m\u001b[0;34m:\u001b[0m\u001b[0;34m\u001b[0m\u001b[0m\n",
      "\u001b[0;32m~/anaconda3/lib/python3.7/site-packages/pandas/core/frame.py\u001b[0m in \u001b[0;36m__getitem__\u001b[0;34m(self, key)\u001b[0m\n\u001b[1;32m   2686\u001b[0m             \u001b[0;32mreturn\u001b[0m \u001b[0mself\u001b[0m\u001b[0;34m.\u001b[0m\u001b[0m_getitem_multilevel\u001b[0m\u001b[0;34m(\u001b[0m\u001b[0mkey\u001b[0m\u001b[0;34m)\u001b[0m\u001b[0;34m\u001b[0m\u001b[0m\n\u001b[1;32m   2687\u001b[0m         \u001b[0;32melse\u001b[0m\u001b[0;34m:\u001b[0m\u001b[0;34m\u001b[0m\u001b[0m\n\u001b[0;32m-> 2688\u001b[0;31m             \u001b[0;32mreturn\u001b[0m \u001b[0mself\u001b[0m\u001b[0;34m.\u001b[0m\u001b[0m_getitem_column\u001b[0m\u001b[0;34m(\u001b[0m\u001b[0mkey\u001b[0m\u001b[0;34m)\u001b[0m\u001b[0;34m\u001b[0m\u001b[0m\n\u001b[0m\u001b[1;32m   2689\u001b[0m \u001b[0;34m\u001b[0m\u001b[0m\n\u001b[1;32m   2690\u001b[0m     \u001b[0;32mdef\u001b[0m \u001b[0m_getitem_column\u001b[0m\u001b[0;34m(\u001b[0m\u001b[0mself\u001b[0m\u001b[0;34m,\u001b[0m \u001b[0mkey\u001b[0m\u001b[0;34m)\u001b[0m\u001b[0;34m:\u001b[0m\u001b[0;34m\u001b[0m\u001b[0m\n",
      "\u001b[0;32m~/anaconda3/lib/python3.7/site-packages/pandas/core/frame.py\u001b[0m in \u001b[0;36m_getitem_column\u001b[0;34m(self, key)\u001b[0m\n\u001b[1;32m   2693\u001b[0m         \u001b[0;31m# get column\u001b[0m\u001b[0;34m\u001b[0m\u001b[0;34m\u001b[0m\u001b[0m\n\u001b[1;32m   2694\u001b[0m         \u001b[0;32mif\u001b[0m \u001b[0mself\u001b[0m\u001b[0;34m.\u001b[0m\u001b[0mcolumns\u001b[0m\u001b[0;34m.\u001b[0m\u001b[0mis_unique\u001b[0m\u001b[0;34m:\u001b[0m\u001b[0;34m\u001b[0m\u001b[0m\n\u001b[0;32m-> 2695\u001b[0;31m             \u001b[0;32mreturn\u001b[0m \u001b[0mself\u001b[0m\u001b[0;34m.\u001b[0m\u001b[0m_get_item_cache\u001b[0m\u001b[0;34m(\u001b[0m\u001b[0mkey\u001b[0m\u001b[0;34m)\u001b[0m\u001b[0;34m\u001b[0m\u001b[0m\n\u001b[0m\u001b[1;32m   2696\u001b[0m \u001b[0;34m\u001b[0m\u001b[0m\n\u001b[1;32m   2697\u001b[0m         \u001b[0;31m# duplicate columns & possible reduce dimensionality\u001b[0m\u001b[0;34m\u001b[0m\u001b[0;34m\u001b[0m\u001b[0m\n",
      "\u001b[0;32m~/anaconda3/lib/python3.7/site-packages/pandas/core/generic.py\u001b[0m in \u001b[0;36m_get_item_cache\u001b[0;34m(self, item)\u001b[0m\n\u001b[1;32m   2487\u001b[0m         \u001b[0mres\u001b[0m \u001b[0;34m=\u001b[0m \u001b[0mcache\u001b[0m\u001b[0;34m.\u001b[0m\u001b[0mget\u001b[0m\u001b[0;34m(\u001b[0m\u001b[0mitem\u001b[0m\u001b[0;34m)\u001b[0m\u001b[0;34m\u001b[0m\u001b[0m\n\u001b[1;32m   2488\u001b[0m         \u001b[0;32mif\u001b[0m \u001b[0mres\u001b[0m \u001b[0;32mis\u001b[0m \u001b[0;32mNone\u001b[0m\u001b[0;34m:\u001b[0m\u001b[0;34m\u001b[0m\u001b[0m\n\u001b[0;32m-> 2489\u001b[0;31m             \u001b[0mvalues\u001b[0m \u001b[0;34m=\u001b[0m \u001b[0mself\u001b[0m\u001b[0;34m.\u001b[0m\u001b[0m_data\u001b[0m\u001b[0;34m.\u001b[0m\u001b[0mget\u001b[0m\u001b[0;34m(\u001b[0m\u001b[0mitem\u001b[0m\u001b[0;34m)\u001b[0m\u001b[0;34m\u001b[0m\u001b[0m\n\u001b[0m\u001b[1;32m   2490\u001b[0m             \u001b[0mres\u001b[0m \u001b[0;34m=\u001b[0m \u001b[0mself\u001b[0m\u001b[0;34m.\u001b[0m\u001b[0m_box_item_values\u001b[0m\u001b[0;34m(\u001b[0m\u001b[0mitem\u001b[0m\u001b[0;34m,\u001b[0m \u001b[0mvalues\u001b[0m\u001b[0;34m)\u001b[0m\u001b[0;34m\u001b[0m\u001b[0m\n\u001b[1;32m   2491\u001b[0m             \u001b[0mcache\u001b[0m\u001b[0;34m[\u001b[0m\u001b[0mitem\u001b[0m\u001b[0;34m]\u001b[0m \u001b[0;34m=\u001b[0m \u001b[0mres\u001b[0m\u001b[0;34m\u001b[0m\u001b[0m\n",
      "\u001b[0;32m~/anaconda3/lib/python3.7/site-packages/pandas/core/internals.py\u001b[0m in \u001b[0;36mget\u001b[0;34m(self, item, fastpath)\u001b[0m\n\u001b[1;32m   4113\u001b[0m \u001b[0;34m\u001b[0m\u001b[0m\n\u001b[1;32m   4114\u001b[0m             \u001b[0;32mif\u001b[0m \u001b[0;32mnot\u001b[0m \u001b[0misna\u001b[0m\u001b[0;34m(\u001b[0m\u001b[0mitem\u001b[0m\u001b[0;34m)\u001b[0m\u001b[0;34m:\u001b[0m\u001b[0;34m\u001b[0m\u001b[0m\n\u001b[0;32m-> 4115\u001b[0;31m                 \u001b[0mloc\u001b[0m \u001b[0;34m=\u001b[0m \u001b[0mself\u001b[0m\u001b[0;34m.\u001b[0m\u001b[0mitems\u001b[0m\u001b[0;34m.\u001b[0m\u001b[0mget_loc\u001b[0m\u001b[0;34m(\u001b[0m\u001b[0mitem\u001b[0m\u001b[0;34m)\u001b[0m\u001b[0;34m\u001b[0m\u001b[0m\n\u001b[0m\u001b[1;32m   4116\u001b[0m             \u001b[0;32melse\u001b[0m\u001b[0;34m:\u001b[0m\u001b[0;34m\u001b[0m\u001b[0m\n\u001b[1;32m   4117\u001b[0m                 \u001b[0mindexer\u001b[0m \u001b[0;34m=\u001b[0m \u001b[0mnp\u001b[0m\u001b[0;34m.\u001b[0m\u001b[0marange\u001b[0m\u001b[0;34m(\u001b[0m\u001b[0mlen\u001b[0m\u001b[0;34m(\u001b[0m\u001b[0mself\u001b[0m\u001b[0;34m.\u001b[0m\u001b[0mitems\u001b[0m\u001b[0;34m)\u001b[0m\u001b[0;34m)\u001b[0m\u001b[0;34m[\u001b[0m\u001b[0misna\u001b[0m\u001b[0;34m(\u001b[0m\u001b[0mself\u001b[0m\u001b[0;34m.\u001b[0m\u001b[0mitems\u001b[0m\u001b[0;34m)\u001b[0m\u001b[0;34m]\u001b[0m\u001b[0;34m\u001b[0m\u001b[0m\n",
      "\u001b[0;32m~/anaconda3/lib/python3.7/site-packages/pandas/core/indexes/base.py\u001b[0m in \u001b[0;36mget_loc\u001b[0;34m(self, key, method, tolerance)\u001b[0m\n\u001b[1;32m   3078\u001b[0m                 \u001b[0;32mreturn\u001b[0m \u001b[0mself\u001b[0m\u001b[0;34m.\u001b[0m\u001b[0m_engine\u001b[0m\u001b[0;34m.\u001b[0m\u001b[0mget_loc\u001b[0m\u001b[0;34m(\u001b[0m\u001b[0mkey\u001b[0m\u001b[0;34m)\u001b[0m\u001b[0;34m\u001b[0m\u001b[0m\n\u001b[1;32m   3079\u001b[0m             \u001b[0;32mexcept\u001b[0m \u001b[0mKeyError\u001b[0m\u001b[0;34m:\u001b[0m\u001b[0;34m\u001b[0m\u001b[0m\n\u001b[0;32m-> 3080\u001b[0;31m                 \u001b[0;32mreturn\u001b[0m \u001b[0mself\u001b[0m\u001b[0;34m.\u001b[0m\u001b[0m_engine\u001b[0m\u001b[0;34m.\u001b[0m\u001b[0mget_loc\u001b[0m\u001b[0;34m(\u001b[0m\u001b[0mself\u001b[0m\u001b[0;34m.\u001b[0m\u001b[0m_maybe_cast_indexer\u001b[0m\u001b[0;34m(\u001b[0m\u001b[0mkey\u001b[0m\u001b[0;34m)\u001b[0m\u001b[0;34m)\u001b[0m\u001b[0;34m\u001b[0m\u001b[0m\n\u001b[0m\u001b[1;32m   3081\u001b[0m \u001b[0;34m\u001b[0m\u001b[0m\n\u001b[1;32m   3082\u001b[0m         \u001b[0mindexer\u001b[0m \u001b[0;34m=\u001b[0m \u001b[0mself\u001b[0m\u001b[0;34m.\u001b[0m\u001b[0mget_indexer\u001b[0m\u001b[0;34m(\u001b[0m\u001b[0;34m[\u001b[0m\u001b[0mkey\u001b[0m\u001b[0;34m]\u001b[0m\u001b[0;34m,\u001b[0m \u001b[0mmethod\u001b[0m\u001b[0;34m=\u001b[0m\u001b[0mmethod\u001b[0m\u001b[0;34m,\u001b[0m \u001b[0mtolerance\u001b[0m\u001b[0;34m=\u001b[0m\u001b[0mtolerance\u001b[0m\u001b[0;34m)\u001b[0m\u001b[0;34m\u001b[0m\u001b[0m\n",
      "\u001b[0;32mpandas/_libs/index.pyx\u001b[0m in \u001b[0;36mpandas._libs.index.IndexEngine.get_loc\u001b[0;34m()\u001b[0m\n",
      "\u001b[0;32mpandas/_libs/index.pyx\u001b[0m in \u001b[0;36mpandas._libs.index.IndexEngine.get_loc\u001b[0;34m()\u001b[0m\n",
      "\u001b[0;32mpandas/_libs/hashtable_class_helper.pxi\u001b[0m in \u001b[0;36mpandas._libs.hashtable.PyObjectHashTable.get_item\u001b[0;34m()\u001b[0m\n",
      "\u001b[0;32mpandas/_libs/hashtable_class_helper.pxi\u001b[0m in \u001b[0;36mpandas._libs.hashtable.PyObjectHashTable.get_item\u001b[0;34m()\u001b[0m\n",
      "\u001b[0;31mKeyError\u001b[0m: 'selftext'"
     ]
    }
   ],
   "source": [
    "def story_lengths(series):\n",
    "    lowered = series.lower()\n",
    "    tokenized = nltk.word_tokenize(lowered)\n",
    "    length = len(tokenized)\n",
    "    return length\n",
    "\n",
    "birth_stories_df['story length'] = birth_stories_df['selftext'].apply(story_lengths)\n",
    "\n",
    "def long_stories(series):\n",
    "    if series >= 500:\n",
    "        return True\n",
    "    else:\n",
    "        return False\n",
    "\n",
    "birth_stories_df['500+'] = birth_stories_df['story length'].apply(long_stories)\n",
    "birth_stories_df = birth_stories_df[birth_stories_df['500+'] == True]\n",
    "birth_stories_df"
   ]
  },
  {
   "cell_type": "code",
   "execution_count": 8,
   "metadata": {},
   "outputs": [
    {
     "ename": "KeyError",
     "evalue": "\"['author' 'title' 'selftext' 'story length' 'created_utc' 'permalink'] not in index\"",
     "output_type": "error",
     "traceback": [
      "\u001b[0;31m---------------------------------------------------------------------------\u001b[0m",
      "\u001b[0;31mKeyError\u001b[0m                                  Traceback (most recent call last)",
      "\u001b[0;32m<ipython-input-8-9e565ecc554e>\u001b[0m in \u001b[0;36m<module>\u001b[0;34m()\u001b[0m\n\u001b[0;32m----> 1\u001b[0;31m \u001b[0mbirth_stories_df\u001b[0m \u001b[0;34m=\u001b[0m \u001b[0mbirth_stories_df\u001b[0m\u001b[0;34m[\u001b[0m\u001b[0;34m[\u001b[0m\u001b[0;34m'author'\u001b[0m\u001b[0;34m,\u001b[0m \u001b[0;34m'title'\u001b[0m\u001b[0;34m,\u001b[0m \u001b[0;34m'selftext'\u001b[0m\u001b[0;34m,\u001b[0m\u001b[0;34m'story length'\u001b[0m\u001b[0;34m,\u001b[0m\u001b[0;34m'created_utc'\u001b[0m\u001b[0;34m,\u001b[0m\u001b[0;34m'permalink'\u001b[0m\u001b[0;34m]\u001b[0m\u001b[0;34m]\u001b[0m\u001b[0;34m\u001b[0m\u001b[0m\n\u001b[0m\u001b[1;32m      2\u001b[0m \u001b[0mbirth_stories_df\u001b[0m\u001b[0;34m\u001b[0m\u001b[0m\n",
      "\u001b[0;32m~/anaconda3/lib/python3.7/site-packages/pandas/core/frame.py\u001b[0m in \u001b[0;36m__getitem__\u001b[0;34m(self, key)\u001b[0m\n\u001b[1;32m   2680\u001b[0m         \u001b[0;32mif\u001b[0m \u001b[0misinstance\u001b[0m\u001b[0;34m(\u001b[0m\u001b[0mkey\u001b[0m\u001b[0;34m,\u001b[0m \u001b[0;34m(\u001b[0m\u001b[0mSeries\u001b[0m\u001b[0;34m,\u001b[0m \u001b[0mnp\u001b[0m\u001b[0;34m.\u001b[0m\u001b[0mndarray\u001b[0m\u001b[0;34m,\u001b[0m \u001b[0mIndex\u001b[0m\u001b[0;34m,\u001b[0m \u001b[0mlist\u001b[0m\u001b[0;34m)\u001b[0m\u001b[0;34m)\u001b[0m\u001b[0;34m:\u001b[0m\u001b[0;34m\u001b[0m\u001b[0m\n\u001b[1;32m   2681\u001b[0m             \u001b[0;31m# either boolean or fancy integer index\u001b[0m\u001b[0;34m\u001b[0m\u001b[0;34m\u001b[0m\u001b[0m\n\u001b[0;32m-> 2682\u001b[0;31m             \u001b[0;32mreturn\u001b[0m \u001b[0mself\u001b[0m\u001b[0;34m.\u001b[0m\u001b[0m_getitem_array\u001b[0m\u001b[0;34m(\u001b[0m\u001b[0mkey\u001b[0m\u001b[0;34m)\u001b[0m\u001b[0;34m\u001b[0m\u001b[0m\n\u001b[0m\u001b[1;32m   2683\u001b[0m         \u001b[0;32melif\u001b[0m \u001b[0misinstance\u001b[0m\u001b[0;34m(\u001b[0m\u001b[0mkey\u001b[0m\u001b[0;34m,\u001b[0m \u001b[0mDataFrame\u001b[0m\u001b[0;34m)\u001b[0m\u001b[0;34m:\u001b[0m\u001b[0;34m\u001b[0m\u001b[0m\n\u001b[1;32m   2684\u001b[0m             \u001b[0;32mreturn\u001b[0m \u001b[0mself\u001b[0m\u001b[0;34m.\u001b[0m\u001b[0m_getitem_frame\u001b[0m\u001b[0;34m(\u001b[0m\u001b[0mkey\u001b[0m\u001b[0;34m)\u001b[0m\u001b[0;34m\u001b[0m\u001b[0m\n",
      "\u001b[0;32m~/anaconda3/lib/python3.7/site-packages/pandas/core/frame.py\u001b[0m in \u001b[0;36m_getitem_array\u001b[0;34m(self, key)\u001b[0m\n\u001b[1;32m   2724\u001b[0m             \u001b[0;32mreturn\u001b[0m \u001b[0mself\u001b[0m\u001b[0;34m.\u001b[0m\u001b[0m_take\u001b[0m\u001b[0;34m(\u001b[0m\u001b[0mindexer\u001b[0m\u001b[0;34m,\u001b[0m \u001b[0maxis\u001b[0m\u001b[0;34m=\u001b[0m\u001b[0;36m0\u001b[0m\u001b[0;34m)\u001b[0m\u001b[0;34m\u001b[0m\u001b[0m\n\u001b[1;32m   2725\u001b[0m         \u001b[0;32melse\u001b[0m\u001b[0;34m:\u001b[0m\u001b[0;34m\u001b[0m\u001b[0m\n\u001b[0;32m-> 2726\u001b[0;31m             \u001b[0mindexer\u001b[0m \u001b[0;34m=\u001b[0m \u001b[0mself\u001b[0m\u001b[0;34m.\u001b[0m\u001b[0mloc\u001b[0m\u001b[0;34m.\u001b[0m\u001b[0m_convert_to_indexer\u001b[0m\u001b[0;34m(\u001b[0m\u001b[0mkey\u001b[0m\u001b[0;34m,\u001b[0m \u001b[0maxis\u001b[0m\u001b[0;34m=\u001b[0m\u001b[0;36m1\u001b[0m\u001b[0;34m)\u001b[0m\u001b[0;34m\u001b[0m\u001b[0m\n\u001b[0m\u001b[1;32m   2727\u001b[0m             \u001b[0;32mreturn\u001b[0m \u001b[0mself\u001b[0m\u001b[0;34m.\u001b[0m\u001b[0m_take\u001b[0m\u001b[0;34m(\u001b[0m\u001b[0mindexer\u001b[0m\u001b[0;34m,\u001b[0m \u001b[0maxis\u001b[0m\u001b[0;34m=\u001b[0m\u001b[0;36m1\u001b[0m\u001b[0;34m)\u001b[0m\u001b[0;34m\u001b[0m\u001b[0m\n\u001b[1;32m   2728\u001b[0m \u001b[0;34m\u001b[0m\u001b[0m\n",
      "\u001b[0;32m~/anaconda3/lib/python3.7/site-packages/pandas/core/indexing.py\u001b[0m in \u001b[0;36m_convert_to_indexer\u001b[0;34m(self, obj, axis, is_setter)\u001b[0m\n\u001b[1;32m   1325\u001b[0m                 \u001b[0;32mif\u001b[0m \u001b[0mmask\u001b[0m\u001b[0;34m.\u001b[0m\u001b[0many\u001b[0m\u001b[0;34m(\u001b[0m\u001b[0;34m)\u001b[0m\u001b[0;34m:\u001b[0m\u001b[0;34m\u001b[0m\u001b[0m\n\u001b[1;32m   1326\u001b[0m                     raise KeyError('{mask} not in index'\n\u001b[0;32m-> 1327\u001b[0;31m                                    .format(mask=objarr[mask]))\n\u001b[0m\u001b[1;32m   1328\u001b[0m \u001b[0;34m\u001b[0m\u001b[0m\n\u001b[1;32m   1329\u001b[0m                 \u001b[0;32mreturn\u001b[0m \u001b[0mcom\u001b[0m\u001b[0;34m.\u001b[0m\u001b[0m_values_from_object\u001b[0m\u001b[0;34m(\u001b[0m\u001b[0mindexer\u001b[0m\u001b[0;34m)\u001b[0m\u001b[0;34m\u001b[0m\u001b[0m\n",
      "\u001b[0;31mKeyError\u001b[0m: \"['author' 'title' 'selftext' 'story length' 'created_utc' 'permalink'] not in index\""
     ]
    }
   ],
   "source": [
    "birth_stories_df = birth_stories_df[['author', 'title', 'selftext','story length','created_utc','permalink']]\n",
    "birth_stories_df"
   ]
  },
  {
   "cell_type": "markdown",
   "metadata": {},
   "source": [
    "**Table 1: Corpus Stats**"
   ]
  },
  {
   "cell_type": "code",
   "execution_count": 7,
   "metadata": {},
   "outputs": [
    {
     "data": {
      "text/plain": [
       "4065"
      ]
     },
     "execution_count": 7,
     "metadata": {},
     "output_type": "execute_result"
    }
   ],
   "source": [
    "#number of stories with more than 500 words\n",
    "num_stories = len(list(birth_stories_df['selftext']))\n",
    "num_stories"
   ]
  },
  {
   "cell_type": "code",
   "execution_count": 8,
   "metadata": {},
   "outputs": [
    {
     "data": {
      "text/plain": [
       "1474.1025830258302"
      ]
     },
     "execution_count": 8,
     "metadata": {},
     "output_type": "execute_result"
    }
   ],
   "source": [
    "#average story length\n",
    "all_story_lengths = list(birth_stories_df['story length'])\n",
    "average_story_length = np.mean(all_story_lengths)\n",
    "average_story_length"
   ]
  },
  {
   "cell_type": "code",
   "execution_count": 9,
   "metadata": {},
   "outputs": [
    {
     "data": {
      "text/plain": [
       "6817"
      ]
     },
     "execution_count": 9,
     "metadata": {},
     "output_type": "execute_result"
    }
   ],
   "source": [
    "#longest story\n",
    "max_story_length = max(all_story_lengths)\n",
    "max_story_length"
   ]
  },
  {
   "cell_type": "code",
   "execution_count": 60,
   "metadata": {},
   "outputs": [
    {
     "data": {
      "text/plain": [
       "54244"
      ]
     },
     "execution_count": 60,
     "metadata": {},
     "output_type": "execute_result"
    }
   ],
   "source": [
    "#number of unique words in the stories\n",
    "all_unique_words = []\n",
    "def unique_words(series):\n",
    "    lowered = series.lower()\n",
    "    tokenized = nltk.word_tokenize(lowered)\n",
    "    for word in tokenized:\n",
    "        if word not in all_unique_words:\n",
    "            all_unique_words.append(word)\n",
    "        else:\n",
    "            continue\n",
    "            \n",
    "birth_stories_df['selftext'].apply(unique_words)\n",
    "num_unique = len(all_unique_words)\n",
    "num_unique"
   ]
  },
  {
   "cell_type": "code",
   "execution_count": 62,
   "metadata": {},
   "outputs": [],
   "source": [
    "corpus_stats = {'Stat':['Number of stories with more than 500 words', 'Average number of words per story',\n",
    "                         'Number of words in longest story', 'Number of unique words'],\n",
    "               'Number':[num_stories, average_story_length, max_story_length, num_unique]}"
   ]
  },
  {
   "cell_type": "code",
   "execution_count": 63,
   "metadata": {},
   "outputs": [
    {
     "data": {
      "text/html": [
       "<div>\n",
       "<style scoped>\n",
       "    .dataframe tbody tr th:only-of-type {\n",
       "        vertical-align: middle;\n",
       "    }\n",
       "\n",
       "    .dataframe tbody tr th {\n",
       "        vertical-align: top;\n",
       "    }\n",
       "\n",
       "    .dataframe thead th {\n",
       "        text-align: right;\n",
       "    }\n",
       "</style>\n",
       "<table border=\"1\" class=\"dataframe\">\n",
       "  <thead>\n",
       "    <tr style=\"text-align: right;\">\n",
       "      <th></th>\n",
       "      <th>Stat</th>\n",
       "      <th>Number</th>\n",
       "    </tr>\n",
       "  </thead>\n",
       "  <tbody>\n",
       "    <tr>\n",
       "      <th>0</th>\n",
       "      <td>Number of stories with more than 500 words</td>\n",
       "      <td>4065.000000</td>\n",
       "    </tr>\n",
       "    <tr>\n",
       "      <th>1</th>\n",
       "      <td>Average number of words per story</td>\n",
       "      <td>1474.102583</td>\n",
       "    </tr>\n",
       "    <tr>\n",
       "      <th>2</th>\n",
       "      <td>Number of words in longest story</td>\n",
       "      <td>6817.000000</td>\n",
       "    </tr>\n",
       "    <tr>\n",
       "      <th>3</th>\n",
       "      <td>Number of unique words</td>\n",
       "      <td>54244.000000</td>\n",
       "    </tr>\n",
       "  </tbody>\n",
       "</table>\n",
       "</div>"
      ],
      "text/plain": [
       "                                         Stat        Number\n",
       "0  Number of stories with more than 500 words   4065.000000\n",
       "1           Average number of words per story   1474.102583\n",
       "2            Number of words in longest story   6817.000000\n",
       "3                      Number of unique words  54244.000000"
      ]
     },
     "execution_count": 63,
     "metadata": {},
     "output_type": "execute_result"
    }
   ],
   "source": [
    "table1_df = pd.DataFrame(corpus_stats, index=np.arange(4))\n",
    "table1_df"
   ]
  },
  {
   "cell_type": "markdown",
   "metadata": {},
   "source": [
    "**Figure 1 (left): how many stories appeared in a year**"
   ]
  },
  {
   "cell_type": "code",
   "execution_count": 11,
   "metadata": {},
   "outputs": [
    {
     "name": "stderr",
     "output_type": "stream",
     "text": [
      "<ipython-input-11-529a139f2df1>:7: SettingWithCopyWarning: \n",
      "A value is trying to be set on a copy of a slice from a DataFrame.\n",
      "Try using .loc[row_indexer,col_indexer] = value instead\n",
      "\n",
      "See the caveats in the documentation: https://pandas.pydata.org/pandas-docs/stable/user_guide/indexing.html#returning-a-view-versus-a-copy\n",
      "  birth_stories_df['year created'] = birth_stories_df['created_utc'].apply(get_post_year)\n"
     ]
    },
    {
     "data": {
      "text/plain": [
       "<AxesSubplot:>"
      ]
     },
     "execution_count": 11,
     "metadata": {},
     "output_type": "execute_result"
    },
    {
     "data": {
      "image/png": "[encoded data removed]",
      "text/plain": [
       "<Figure size 432x288 with 1 Axes>"
      ]
     },
     "metadata": {
      "needs_background": "light"
     },
     "output_type": "display_data"
    }
   ],
   "source": [
    "#translate created_utc column into years\n",
    "def get_post_year(series):\n",
    "    parsed_date = datetime.utcfromtimestamp(series)\n",
    "    year = parsed_date.year\n",
    "    return year\n",
    "\n",
    "birth_stories_df['year created'] = birth_stories_df['created_utc'].apply(get_post_year)\n",
    "posts_per_year = birth_stories_df['year created'].value_counts()\n",
    "#posts_per_year.plot.bar(x='year', y='number of posts')\n",
    "posts_per_year.sort_index().plot.bar()"
   ]
  },
  {
   "cell_type": "markdown",
   "metadata": {},
   "source": [
    "**Figure 1 (right): Distribution of number of stories that had numbers of words**"
   ]
  },
  {
   "cell_type": "code",
   "execution_count": 12,
   "metadata": {
    "scrolled": true
   },
   "outputs": [
    {
     "data": {
      "text/plain": [
       "<AxesSubplot:>"
      ]
     },
     "execution_count": 12,
     "metadata": {},
     "output_type": "execute_result"
    },
    {
     "data": {
      "image/png": "[encoded data removed]",
      "text/plain": [
       "<Figure size 432x288 with 1 Axes>"
      ]
     },
     "metadata": {
      "needs_background": "light"
     },
     "output_type": "display_data"
    }
   ],
   "source": [
    "#histogram\n",
    "birth_stories_df['story length'].hist(bins=20)"
   ]
  },
  {
   "cell_type": "markdown",
   "metadata": {},
   "source": [
    "**Table 3: Labels**"
   ]
  },
  {
   "cell_type": "code",
   "execution_count": 13,
   "metadata": {},
   "outputs": [],
   "source": [
    "positive = ['positive']\n",
    "not_positive = ['less-than positive']\n",
    "negative = ['trauma', 'trigger', 'negative']\n",
    "unmedicated = ['no epi', 'natural', 'unmedicated', 'epidural free', 'no meds', 'no pain meds']\n",
    "not_unmedicated = ['unnatural']\n",
    "medicated = ['epidural', 'epi']\n",
    "not_medicated = ['no epi', 'epidural free']\n",
    "home = ['home']\n",
    "hospital = ['hospital']\n",
    "first = ['ftm', 'first time', 'first pregnancy']\n",
    "second = ['stm', 'second']\n",
    "c_section = ['cesarian', 'section', 'caesar']\n",
    "vaginal = ['vaginal', 'vbac']"
   ]
  },
  {
   "cell_type": "code",
   "execution_count": 14,
   "metadata": {},
   "outputs": [],
   "source": [
    "#ask Adam\n",
    "def findkey(title, labels):\n",
    "    x = False\n",
    "    for label in labels:\n",
    "        if label in title:\n",
    "            x = True\n",
    "    return x\n",
    "\n",
    "def findkeydisallow(title, labels, notlabels):\n",
    "    x = False\n",
    "    for label in labels:\n",
    "        if label in title:\n",
    "            for notlabel in notlabels:\n",
    "                if notlabel in title:\n",
    "                    return x\n",
    "                else:\n",
    "                    x = True\n",
    "    return x"
   ]
  },
  {
   "cell_type": "code",
   "execution_count": 15,
   "metadata": {},
   "outputs": [
    {
     "data": {
      "text/plain": [
       "False    3740\n",
       "True      325\n",
       "Name: title, dtype: int64"
      ]
     },
     "execution_count": 15,
     "metadata": {},
     "output_type": "execute_result"
    }
   ],
   "source": [
    "birth_stories_df['title'].apply(lambda x: findkeydisallow(x,unmedicated, not_unmedicated)).value_counts()"
   ]
  },
  {
   "cell_type": "code",
   "execution_count": 16,
   "metadata": {},
   "outputs": [
    {
     "data": {
      "text/plain": [
       "False    3830\n",
       "True      235\n",
       "Name: title, dtype: int64"
      ]
     },
     "execution_count": 16,
     "metadata": {},
     "output_type": "execute_result"
    }
   ],
   "source": [
    "birth_stories_df['title'].apply(lambda x: findkey(x,negative)).value_counts()"
   ]
  },
  {
   "cell_type": "code",
   "execution_count": 17,
   "metadata": {},
   "outputs": [
    {
     "data": {
      "text/plain": [
       "235"
      ]
     },
     "execution_count": 17,
     "metadata": {},
     "output_type": "execute_result"
    }
   ],
   "source": [
    "negative_count = birth_stories_df['title'].apply(lambda x: findkey(x,negative)).value_counts()[1]\n",
    "negative_count"
   ]
  },
  {
   "cell_type": "code",
   "execution_count": 19,
   "metadata": {},
   "outputs": [
    {
     "data": {
      "text/plain": [
       "{'Negative': 235}"
      ]
     },
     "execution_count": 19,
     "metadata": {},
     "output_type": "execute_result"
    }
   ],
   "source": [
    "labels = {'Negative':negative_count}\n",
    "labels"
   ]
  },
  {
   "cell_type": "code",
   "execution_count": 64,
   "metadata": {},
   "outputs": [
    {
     "data": {
      "text/plain": [
       "{'Labels': ['Positive',\n",
       "  'Negative',\n",
       "  'Unmedicated',\n",
       "  'Medicated',\n",
       "  'Home',\n",
       "  'Hospital',\n",
       "  'First',\n",
       "  'Second',\n",
       "  'C-section',\n",
       "  'Vaginal'],\n",
       " 'Description': ['Positively framed',\n",
       "  'Negatively framed',\n",
       "  'Birth without epidural',\n",
       "  'Birth with epidural',\n",
       "  'Birth takes place at home',\n",
       "  'Birth takes place at hospital',\n",
       "  'First birth for the author',\n",
       "  'Second birth for the author',\n",
       "  'Birth via cesarean delivery',\n",
       "  'Vaginal births'],\n",
       " 'N-Grams': [['positive', 'less-than positive'],\n",
       "  ['trauma', 'trigger', 'negative'],\n",
       "  ['no epi',\n",
       "   'natural',\n",
       "   'unmedicated',\n",
       "   'epidural free',\n",
       "   'no meds',\n",
       "   'no pain meds',\n",
       "   'unnatural'],\n",
       "  ['epidural', 'epi', 'no epi', 'epidural free'],\n",
       "  ['home'],\n",
       "  ['hospital'],\n",
       "  ['ftm', 'first time', 'first pregnancy'],\n",
       "  ['stm', 'second'],\n",
       "  ['cesarian', 'section', 'caesar'],\n",
       "  ['vaginal', 'vbac']],\n",
       " 'Number of Stories': [666, 235, 325, 316, 85, 208, 14, 29, 394, 161]}"
      ]
     },
     "execution_count": 64,
     "metadata": {},
     "output_type": "execute_result"
    }
   ],
   "source": [
    "positive_count = birth_stories_df['title'].apply(lambda x: findkeydisallow(x,positive, not_positive)).value_counts()[1]\n",
    "unmedicated_count = birth_stories_df['title'].apply(lambda x: findkeydisallow(x,unmedicated, not_unmedicated)).value_counts()[1]\n",
    "medicated_count = birth_stories_df['title'].apply(lambda x: findkeydisallow(x,medicated, not_medicated)).value_counts()[1]\n",
    "negative_count = birth_stories_df['title'].apply(lambda x: findkey(x,negative)).value_counts()[1]\n",
    "home_count = birth_stories_df['title'].apply(lambda x: findkey(x,home)).value_counts()[1]\n",
    "hospital_count = birth_stories_df['title'].apply(lambda x: findkey(x,hospital)).value_counts()[1]\n",
    "first_count = birth_stories_df['title'].apply(lambda x: findkey(x,first)).value_counts()[1]\n",
    "second_count = birth_stories_df['title'].apply(lambda x: findkey(x,second)).value_counts()[1]\n",
    "c_section_count = birth_stories_df['title'].apply(lambda x: findkey(x,c_section)).value_counts()[1]\n",
    "vaginal_count = birth_stories_df['title'].apply(lambda x: findkey(x,vaginal)).value_counts()[1]\n",
    "labels = { 'Labels': ['Positive', 'Negative', 'Unmedicated', 'Medicated', 'Home', 'Hospital', 'First', 'Second', 'C-section', 'Vaginal'],\n",
    "          'Description': ['Positively framed', 'Negatively framed', 'Birth without epidural', 'Birth with epidural',\n",
    "                         'Birth takes place at home', 'Birth takes place at hospital', 'First birth for the author',\n",
    "                         'Second birth for the author', 'Birth via cesarean delivery', 'Vaginal births'],\n",
    "          'N-Grams': [positive+not_positive, negative, unmedicated+not_unmedicated, medicated+not_medicated,\n",
    "                     home, hospital, first, second, c_section, vaginal],\n",
    "          'Number of Stories': [positive_count, negative_count, unmedicated_count, medicated_count, home_count, hospital_count, first_count, second_count, c_section_count, vaginal_count]}\n",
    "labels"
   ]
  },
  {
   "cell_type": "code",
   "execution_count": 52,
   "metadata": {},
   "outputs": [
    {
     "data": {
      "text/html": [
       "<div>\n",
       "<style scoped>\n",
       "    .dataframe tbody tr th:only-of-type {\n",
       "        vertical-align: middle;\n",
       "    }\n",
       "\n",
       "    .dataframe tbody tr th {\n",
       "        vertical-align: top;\n",
       "    }\n",
       "\n",
       "    .dataframe thead th {\n",
       "        text-align: right;\n",
       "    }\n",
       "</style>\n",
       "<table border=\"1\" class=\"dataframe\">\n",
       "  <thead>\n",
       "    <tr style=\"text-align: right;\">\n",
       "      <th></th>\n",
       "      <th>Description</th>\n",
       "      <th>N-Grams</th>\n",
       "      <th>Number of Stories</th>\n",
       "    </tr>\n",
       "    <tr>\n",
       "      <th>Labels</th>\n",
       "      <th></th>\n",
       "      <th></th>\n",
       "      <th></th>\n",
       "    </tr>\n",
       "  </thead>\n",
       "  <tbody>\n",
       "    <tr>\n",
       "      <th>Positive</th>\n",
       "      <td>Positively framed</td>\n",
       "      <td>[positive, less-than positive]</td>\n",
       "      <td>666</td>\n",
       "    </tr>\n",
       "    <tr>\n",
       "      <th>Negative</th>\n",
       "      <td>Negatively framed</td>\n",
       "      <td>[trauma, trigger, negative]</td>\n",
       "      <td>235</td>\n",
       "    </tr>\n",
       "    <tr>\n",
       "      <th>Unmedicated</th>\n",
       "      <td>Birth without epidural</td>\n",
       "      <td>[no epi, natural, unmedicated, epidural free, ...</td>\n",
       "      <td>325</td>\n",
       "    </tr>\n",
       "    <tr>\n",
       "      <th>Medicated</th>\n",
       "      <td>Birth with epidural</td>\n",
       "      <td>[epidural, epi, no epi, epidural free]</td>\n",
       "      <td>316</td>\n",
       "    </tr>\n",
       "    <tr>\n",
       "      <th>Home</th>\n",
       "      <td>Birth takes place at home</td>\n",
       "      <td>[home]</td>\n",
       "      <td>85</td>\n",
       "    </tr>\n",
       "    <tr>\n",
       "      <th>Hospital</th>\n",
       "      <td>Birth takes place at hospital</td>\n",
       "      <td>[hospital]</td>\n",
       "      <td>208</td>\n",
       "    </tr>\n",
       "    <tr>\n",
       "      <th>First</th>\n",
       "      <td>First birth for the author</td>\n",
       "      <td>[ftm, first time, first pregnancy]</td>\n",
       "      <td>14</td>\n",
       "    </tr>\n",
       "    <tr>\n",
       "      <th>Second</th>\n",
       "      <td>Second birth for the author</td>\n",
       "      <td>[stm, second]</td>\n",
       "      <td>29</td>\n",
       "    </tr>\n",
       "    <tr>\n",
       "      <th>C-section</th>\n",
       "      <td>Birth via cesarean delivery</td>\n",
       "      <td>[cesarian, section, caesar]</td>\n",
       "      <td>394</td>\n",
       "    </tr>\n",
       "    <tr>\n",
       "      <th>Vaginal</th>\n",
       "      <td>Vaginal births</td>\n",
       "      <td>[vaginal, vbac]</td>\n",
       "      <td>161</td>\n",
       "    </tr>\n",
       "  </tbody>\n",
       "</table>\n",
       "</div>"
      ],
      "text/plain": [
       "                               Description  \\\n",
       "Labels                                       \n",
       "Positive                 Positively framed   \n",
       "Negative                 Negatively framed   \n",
       "Unmedicated         Birth without epidural   \n",
       "Medicated              Birth with epidural   \n",
       "Home             Birth takes place at home   \n",
       "Hospital     Birth takes place at hospital   \n",
       "First           First birth for the author   \n",
       "Second         Second birth for the author   \n",
       "C-section      Birth via cesarean delivery   \n",
       "Vaginal                     Vaginal births   \n",
       "\n",
       "                                                       N-Grams  \\\n",
       "Labels                                                           \n",
       "Positive                        [positive, less-than positive]   \n",
       "Negative                           [trauma, trigger, negative]   \n",
       "Unmedicated  [no epi, natural, unmedicated, epidural free, ...   \n",
       "Medicated               [epidural, epi, no epi, epidural free]   \n",
       "Home                                                    [home]   \n",
       "Hospital                                            [hospital]   \n",
       "First                       [ftm, first time, first pregnancy]   \n",
       "Second                                           [stm, second]   \n",
       "C-section                          [cesarian, section, caesar]   \n",
       "Vaginal                                        [vaginal, vbac]   \n",
       "\n",
       "             Number of Stories  \n",
       "Labels                          \n",
       "Positive                   666  \n",
       "Negative                   235  \n",
       "Unmedicated                325  \n",
       "Medicated                  316  \n",
       "Home                        85  \n",
       "Hospital                   208  \n",
       "First                       14  \n",
       "Second                      29  \n",
       "C-section                  394  \n",
       "Vaginal                    161  "
      ]
     },
     "execution_count": 52,
     "metadata": {},
     "output_type": "execute_result"
    }
   ],
   "source": [
    "table3_df = pd.DataFrame(labels, index=np.arange(10))\n",
    "table3_df.set_index('Labels')"
   ]
  },
  {
   "cell_type": "markdown",
   "metadata": {},
   "source": [
    "**Figure 2: Sentiment Analysis**"
   ]
  },
  {
   "cell_type": "code",
   "execution_count": 99,
   "metadata": {},
   "outputs": [],
   "source": [
    "from vaderSentiment.vaderSentiment import SentimentIntensityAnalyzer\n",
    "analyzer = SentimentIntensityAnalyzer()"
   ]
  },
  {
   "cell_type": "code",
   "execution_count": 105,
   "metadata": {},
   "outputs": [],
   "source": [
    "def sentiment_analyzer_scores(sentence):\n",
    "    score = analyzer.polarity_scores(sentence)\n",
    "    #print(\"{:-<20} {}\".format(sentence, str(score)))\n",
    "    print(sentence, score)"
   ]
  },
  {
   "cell_type": "code",
   "execution_count": 92,
   "metadata": {},
   "outputs": [],
   "source": [
    "story_sents = tokenize.sent_tokenize(birth_stories_df['selftext'].iloc[0])"
   ]
  },
  {
   "cell_type": "code",
   "execution_count": 130,
   "metadata": {},
   "outputs": [
    {
     "name": "stdout",
     "output_type": "stream",
     "text": [
      "['Tl;dr Baby pictures!', \"[Chillin' out, maxin' out relaxin' all cool](http://imgur.com/kstksED)\\n\\n[Little chunk](http://imgur.com/giilaR2)\\n\\n[Daddy &amp; Willow cuddle time](http://imgur.com/Gmb6rvs)\\n\\nI started to have painful Braxton Hicks around 2 weeks before my due date which sent me to hospital to make sure they weren't the real deal.\", 'At that stage my cervix was 3cm, closed, firm and posterior.', 'On the day after my due date (28th July) I went to my 40 week appointment with the midwife and she performed a stretch and sweep, where I was 1-2cm dilated, around 80% effaced and my cervix was in the middle and 1cm long.', 'I lost my mucus plug that night and throughout the next day, along with having some more painful but irregular contractions.', 'On Wednesday 30th July I ended up in hospital again as I had been having contractions again and the baby had slowed right down with her movements.', 'I was monitored and everything was fine with baby so the midwife there offered me another sweep which I accepted.', 'I was 2-3cm dilated at this point so the sweep from a couple of days before had made some progress.', 'Come Thursday 31st July I lost my bloody show in the morning and had even more painful contractions throughout the day, ranging from 3-4 minutes apart to 20 minutes apart.', 'By this stage it had turned into back labour as little lady decided my back was a comfy place to lie, so I was in an awful lot of pain.']\n",
      "['At 1.30 in the morning on Friday 1st August during a pretty gnarly contraction I heard a pop and felt a big trickle in my underwear; my water had broken!', 'I had a couple of gushes as I got up and walked around but nothing like they portray it to be in the movies, such lies.', 'I called the hospital and they advised me to come in as soon as I was ready and to bring all the bags with us.', 'We got there at around 2am and I was taken to be monitored, by this point the contractions were extremely painful and coming every 2-3 mins, I had a check and I was 5cm dilated so I was admitted and taken to the delivery room where I was given gas and air.', \"Now, I was led to believe it would help with the pain – but to be honest it just made me that spaced out/high that I didn't even know where I was.\", \"I was still involuntarily moaning through the pain and sucking on that gas like it was my lifeline; back labour is fucking excruciating and I wouldn't wish it on my worst enemy.\", 'I remember asking for an epidural, and I remember while having it that the anaesthesiologist commented on my back being glittery (I’d used a bath bomb earlier in the day to try and get some pain relief and it was glittery ha!)', 'but other than that there’s only little snippets I can recall.', 'My epidural was finally in by 4.30am and the change in me was immediate, I became coherent and I was able to relax and just talk to my SO about everything that was going on.', 'It didn’t take straight away on my left side so I was told to lie on that side for a while for it to get to work and it did after about 5 minutes.']\n",
      "['Around 4 hours after I was admitted I was told I would be checked again – if I had made progress they would just leave me to it for another few hours, but if there hadn’t been any they wanted to start on the hormone drop to try and help things move along.', 'So at 6.45am the midwife got all up in my junk, declared she wasn’t even going to examine me as the head was right there and waiting and I proceeded to freak the fuck out.', 'The midwife had to get everything ready so at around 7am I was asked to start pushing – the baby’s head got stuck so I had to have an episiotomy to help her along, and at 7.27am she entered the world.', 'She started crying the minute her little head was out and scored a 9 on both of her APGARs.', 'She started rooting about 5 – 10 minutes after she was born and latched on like a pro, she is still an absolute champion when it comes to breastfeeding now and has never had any problems.', 'It ended up taking an hour to stitch me up because as well as being cut I managed to get a second degree tear, and it took a while to get everything right.', 'So we did skin to skin for the entire time, with daddy getting some time in as well :)\\n\\nAfter a couple of hours I got cleaned up and taken to the ward to rest and I was discharged the next day after being taught to breastfeed and change her throughout the night.', 'It was a massive help to have the support of the midwives and nurses on the ward so if you get the chance to stay overnight in hospital I would definitely advise to do it.', 'As for now – I’ve had some pretty bad problems with my mood swings, from feeling elated to feeling like I regret having her.', 'I almost gave up breastfeeding a couple of days ago as it is really fucking hard.']\n"
     ]
    }
   ],
   "source": [
    "n = np.round(len(story_sents)/10, 0)\n",
    "def split_story_10_sections(lst, n):\n",
    "    print(lst[:10])\n",
    "    print(lst[11:21])\n",
    "    print(lst[22:32])\n",
    "    \n",
    "split_story_10_sections(story_sents, n)"
   ]
  },
  {
   "cell_type": "code",
   "execution_count": 114,
   "metadata": {},
   "outputs": [
    {
     "name": "stdout",
     "output_type": "stream",
     "text": [
      "Tl;dr Baby pictures! {'neg': 0.0, 'neu': 1.0, 'pos': 0.0, 'compound': 0.0}\n",
      "[Chillin' out, maxin' out relaxin' all cool](http://imgur.com/kstksED)\n",
      "\n",
      "[Little chunk](http://imgur.com/giilaR2)\n",
      "\n",
      "[Daddy &amp; Willow cuddle time](http://imgur.com/Gmb6rvs)\n",
      "\n",
      "I started to have painful Braxton Hicks around 2 weeks before my due date which sent me to hospital to make sure they weren't the real deal. {'neg': 0.063, 'neu': 0.828, 'pos': 0.109, 'compound': 0.2732}\n",
      "At that stage my cervix was 3cm, closed, firm and posterior. {'neg': 0.0, 'neu': 1.0, 'pos': 0.0, 'compound': 0.0}\n",
      "On the day after my due date (28th July) I went to my 40 week appointment with the midwife and she performed a stretch and sweep, where I was 1-2cm dilated, around 80% effaced and my cervix was in the middle and 1cm long. {'neg': 0.0, 'neu': 1.0, 'pos': 0.0, 'compound': 0.0}\n",
      "I lost my mucus plug that night and throughout the next day, along with having some more painful but irregular contractions. {'neg': 0.165, 'neu': 0.835, 'pos': 0.0, 'compound': -0.4111}\n",
      "On Wednesday 30th July I ended up in hospital again as I had been having contractions again and the baby had slowed right down with her movements. {'neg': 0.0, 'neu': 1.0, 'pos': 0.0, 'compound': 0.0}\n",
      "I was monitored and everything was fine with baby so the midwife there offered me another sweep which I accepted. {'neg': 0.0, 'neu': 0.822, 'pos': 0.178, 'compound': 0.4404}\n",
      "I was 2-3cm dilated at this point so the sweep from a couple of days before had made some progress. {'neg': 0.0, 'neu': 0.872, 'pos': 0.128, 'compound': 0.4215}\n",
      "Come Thursday 31st July I lost my bloody show in the morning and had even more painful contractions throughout the day, ranging from 3-4 minutes apart to 20 minutes apart. {'neg': 0.237, 'neu': 0.763, 'pos': 0.0, 'compound': -0.8122}\n",
      "By this stage it had turned into back labour as little lady decided my back was a comfy place to lie, so I was in an awful lot of pain. {'neg': 0.184, 'neu': 0.816, 'pos': 0.0, 'compound': -0.743}\n",
      "I was told to stay at home and take painkillers/have a bath until the contractions were around 2-3 minutes apart. {'neg': 0.0, 'neu': 1.0, 'pos': 0.0, 'compound': 0.0}\n",
      "At 1.30 in the morning on Friday 1st August during a pretty gnarly contraction I heard a pop and felt a big trickle in my underwear; my water had broken! {'neg': 0.09, 'neu': 0.809, 'pos': 0.101, 'compound': 0.1007}\n",
      "I had a couple of gushes as I got up and walked around but nothing like they portray it to be in the movies, such lies. {'neg': 0.21, 'neu': 0.79, 'pos': 0.0, 'compound': -0.748}\n",
      "I called the hospital and they advised me to come in as soon as I was ready and to bring all the bags with us. {'neg': 0.0, 'neu': 0.906, 'pos': 0.094, 'compound': 0.3612}\n",
      "We got there at around 2am and I was taken to be monitored, by this point the contractions were extremely painful and coming every 2-3 mins, I had a check and I was 5cm dilated so I was admitted and taken to the delivery room where I was given gas and air. {'neg': 0.058, 'neu': 0.911, 'pos': 0.03, 'compound': -0.3673}\n",
      "Now, I was led to believe it would help with the pain – but to be honest it just made me that spaced out/high that I didn't even know where I was. {'neg': 0.057, 'neu': 0.774, 'pos': 0.168, 'compound': 0.631}\n",
      "I was still involuntarily moaning through the pain and sucking on that gas like it was my lifeline; back labour is fucking excruciating and I wouldn't wish it on my worst enemy. {'neg': 0.411, 'neu': 0.536, 'pos': 0.054, 'compound': -0.9489}\n",
      "I remember asking for an epidural, and I remember while having it that the anaesthesiologist commented on my back being glittery (I’d used a bath bomb earlier in the day to try and get some pain relief and it was glittery ha!) {'neg': 0.139, 'neu': 0.798, 'pos': 0.063, 'compound': -0.5707}\n",
      "but other than that there’s only little snippets I can recall. {'neg': 0.0, 'neu': 1.0, 'pos': 0.0, 'compound': 0.0}\n",
      "My epidural was finally in by 4.30am and the change in me was immediate, I became coherent and I was able to relax and just talk to my SO about everything that was going on. {'neg': 0.0, 'neu': 0.921, 'pos': 0.079, 'compound': 0.4404}\n",
      "It didn’t take straight away on my left side so I was told to lie on that side for a while for it to get to work and it did after about 5 minutes. {'neg': 0.0, 'neu': 0.946, 'pos': 0.054, 'compound': 0.2263}\n",
      "My midwife was lovely and just chatted to us both while we waited for a few hours for me to be checked again. {'neg': 0.0, 'neu': 0.853, 'pos': 0.147, 'compound': 0.5859}\n",
      "Around 4 hours after I was admitted I was told I would be checked again – if I had made progress they would just leave me to it for another few hours, but if there hadn’t been any they wanted to start on the hormone drop to try and help things move along. {'neg': 0.064, 'neu': 0.822, 'pos': 0.114, 'compound': 0.4404}\n",
      "So at 6.45am the midwife got all up in my junk, declared she wasn’t even going to examine me as the head was right there and waiting and I proceeded to freak the fuck out. {'neg': 0.162, 'neu': 0.838, 'pos': 0.0, 'compound': -0.7506}\n",
      "The midwife had to get everything ready so at around 7am I was asked to start pushing – the baby’s head got stuck so I had to have an episiotomy to help her along, and at 7.27am she entered the world. {'neg': 0.044, 'neu': 0.841, 'pos': 0.115, 'compound': 0.4939}\n",
      "She started crying the minute her little head was out and scored a 9 on both of her APGARs. {'neg': 0.147, 'neu': 0.853, 'pos': 0.0, 'compound': -0.4767}\n",
      "She started rooting about 5 – 10 minutes after she was born and latched on like a pro, she is still an absolute champion when it comes to breastfeeding now and has never had any problems. {'neg': 0.0, 'neu': 0.792, 'pos': 0.208, 'compound': 0.8252}\n",
      "It ended up taking an hour to stitch me up because as well as being cut I managed to get a second degree tear, and it took a while to get everything right. {'neg': 0.06, 'neu': 0.881, 'pos': 0.06, 'compound': 0.0}\n",
      "So we did skin to skin for the entire time, with daddy getting some time in as well :)\n",
      "\n",
      "After a couple of hours I got cleaned up and taken to the ward to rest and I was discharged the next day after being taught to breastfeed and change her throughout the night. {'neg': 0.0, 'neu': 0.909, 'pos': 0.091, 'compound': 0.6249}\n",
      "It was a massive help to have the support of the midwives and nurses on the ward so if you get the chance to stay overnight in hospital I would definitely advise to do it. {'neg': 0.0, 'neu': 0.754, 'pos': 0.246, 'compound': 0.8442}\n",
      "As for now – I’ve had some pretty bad problems with my mood swings, from feeling elated to feeling like I regret having her. {'neg': 0.237, 'neu': 0.422, 'pos': 0.34, 'compound': 0.4404}\n",
      "I almost gave up breastfeeding a couple of days ago as it is really fucking hard. {'neg': 0.116, 'neu': 0.884, 'pos': 0.0, 'compound': -0.2433}\n",
      "Especially when she decides to cluster feed at night. {'neg': 0.0, 'neu': 1.0, 'pos': 0.0, 'compound': 0.0}\n",
      "She is doing amazingly well for a breastfed baby however when it comes to her weight, she only dropped 50g in the first 3 days and then gained 140g in 3 days so it’s given me the motivation to continue. {'neg': 0.0, 'neu': 0.833, 'pos': 0.167, 'compound': 0.7501}\n",
      "We have the option of daddy giving her a bottle of formula at night if I just really need to sleep and I am back on iron supplements so fingers crossed I will continue to feel better about everything. {'neg': 0.0, 'neu': 0.875, 'pos': 0.125, 'compound': 0.6486}\n",
      "Willow is an absolute dream so far, she is very chilled and rarely cries, but when she does I just feel so much for her and it doesn’t irritate me like I thought it would. {'neg': 0.09, 'neu': 0.755, 'pos': 0.155, 'compound': 0.1727}\n",
      "To everyone out there who is still waiting – it is totally worth it. {'neg': 0.0, 'neu': 0.856, 'pos': 0.144, 'compound': 0.2944}\n"
     ]
    }
   ],
   "source": [
    "for sentence in story_sents:\n",
    "    if len(tokenize.word_tokenize(sentence)) >=5:\n",
    "        sentiment_analyzer_scores(sentence)"
   ]
  },
  {
   "cell_type": "code",
   "execution_count": null,
   "metadata": {},
   "outputs": [],
   "source": [
    "#clean titles for bigram detection\n",
    "#def clean_titles(series):\n",
    "    #lowered = series.lower()\n",
    "    #tokenized = \" \".join([\" \".join(nltk.word_tokenize(title)) for title in nltk.sent_tokenize(str(lowered))]).split()\n",
    "    #return tokenized\n",
    "#birth_stories_df['cleaned title'] = birth_stories_df['title'].apply(clean_titles)\n",
    "#birth_stories_df"
   ]
  }
 ],
 "metadata": {
  "kernelspec": {
   "display_name": "birthing_experiences",
   "language": "python",
   "name": "birthing_experiences"
  },
  "language_info": {
   "codemirror_mode": {
    "name": "ipython",
    "version": 3
   },
   "file_extension": ".py",
   "mimetype": "text/x-python",
   "name": "python",
   "nbconvert_exporter": "python",
   "pygments_lexer": "ipython3",
   "version": "3.7.0"
  }
 },
 "nbformat": 4,
 "nbformat_minor": 4
}
